{
  "metadata": {
    "kernelspec": {
      "name": "python",
      "display_name": "Python (Pyodide)",
      "language": "python"
    },
    "language_info": {
      "codemirror_mode": {
        "name": "python",
        "version": 3
      },
      "file_extension": ".py",
      "mimetype": "text/x-python",
      "name": "python",
      "nbconvert_exporter": "python",
      "pygments_lexer": "ipython3",
      "version": "3.8"
    }
  },
  "nbformat_minor": 4,
  "nbformat": 4,
  "cells": [
    {
      "cell_type": "code",
      "source": "%pip install pandas",
      "metadata": {
        "trusted": true
      },
      "outputs": [],
      "execution_count": 8
    },
    {
      "cell_type": "code",
      "source": "import pandas as pd\nimport numpy as np",
      "metadata": {
        "trusted": true
      },
      "outputs": [],
      "execution_count": 9
    },
    {
      "cell_type": "code",
      "source": "df = pd.read_csv(\"./Book1.csv\")\ndf.head()",
      "metadata": {
        "trusted": true
      },
      "outputs": [
        {
          "execution_count": 12,
          "output_type": "execute_result",
          "data": {
            "text/plain": "  kelas                    guru    tanggal  kebersihan  kerapian  \\\n0    7C           Laila Dzikria  7/23/2024          75        50   \n1    7C  Ustadzah Fadhilah Nisa  7/25/2024          75        75   \n2    9C           Laila Dzikria  7/26/2024          75        75   \n3    9C  Ustadzah Fadhilah Nisa  7/25/2024          50        50   \n4    7C   Ustadzah Hilmi Gianti  7/29/2024          75        50   \n\n   kelengkapan_fasilitas  seragam_sepatu  keaktifan  mengingatkan  Unnamed: 9  \\\n0                     60              25         25            66         NaN   \n1                     60              25         25            33         NaN   \n2                     60             100         75            66         NaN   \n3                     60             100         25            33         NaN   \n4                     80              25         25            66         NaN   \n\n   Unnamed: 10  Unnamed: 11  Unnamed: 12  Unnamed: 13  \n0          NaN          NaN          NaN          NaN  \n1          NaN          NaN          NaN          NaN  \n2          NaN          NaN          NaN          NaN  \n3          NaN          NaN          NaN          NaN  \n4          NaN          NaN          NaN          NaN  ",
            "text/html": "<div>\n<style scoped>\n    .dataframe tbody tr th:only-of-type {\n        vertical-align: middle;\n    }\n\n    .dataframe tbody tr th {\n        vertical-align: top;\n    }\n\n    .dataframe thead th {\n        text-align: right;\n    }\n</style>\n<table border=\"1\" class=\"dataframe\">\n  <thead>\n    <tr style=\"text-align: right;\">\n      <th></th>\n      <th>kelas</th>\n      <th>guru</th>\n      <th>tanggal</th>\n      <th>kebersihan</th>\n      <th>kerapian</th>\n      <th>kelengkapan_fasilitas</th>\n      <th>seragam_sepatu</th>\n      <th>keaktifan</th>\n      <th>mengingatkan</th>\n      <th>Unnamed: 9</th>\n      <th>Unnamed: 10</th>\n      <th>Unnamed: 11</th>\n      <th>Unnamed: 12</th>\n      <th>Unnamed: 13</th>\n    </tr>\n  </thead>\n  <tbody>\n    <tr>\n      <th>0</th>\n      <td>7C</td>\n      <td>Laila Dzikria</td>\n      <td>7/23/2024</td>\n      <td>75</td>\n      <td>50</td>\n      <td>60</td>\n      <td>25</td>\n      <td>25</td>\n      <td>66</td>\n      <td>NaN</td>\n      <td>NaN</td>\n      <td>NaN</td>\n      <td>NaN</td>\n      <td>NaN</td>\n    </tr>\n    <tr>\n      <th>1</th>\n      <td>7C</td>\n      <td>Ustadzah Fadhilah Nisa</td>\n      <td>7/25/2024</td>\n      <td>75</td>\n      <td>75</td>\n      <td>60</td>\n      <td>25</td>\n      <td>25</td>\n      <td>33</td>\n      <td>NaN</td>\n      <td>NaN</td>\n      <td>NaN</td>\n      <td>NaN</td>\n      <td>NaN</td>\n    </tr>\n    <tr>\n      <th>2</th>\n      <td>9C</td>\n      <td>Laila Dzikria</td>\n      <td>7/26/2024</td>\n      <td>75</td>\n      <td>75</td>\n      <td>60</td>\n      <td>100</td>\n      <td>75</td>\n      <td>66</td>\n      <td>NaN</td>\n      <td>NaN</td>\n      <td>NaN</td>\n      <td>NaN</td>\n      <td>NaN</td>\n    </tr>\n    <tr>\n      <th>3</th>\n      <td>9C</td>\n      <td>Ustadzah Fadhilah Nisa</td>\n      <td>7/25/2024</td>\n      <td>50</td>\n      <td>50</td>\n      <td>60</td>\n      <td>100</td>\n      <td>25</td>\n      <td>33</td>\n      <td>NaN</td>\n      <td>NaN</td>\n      <td>NaN</td>\n      <td>NaN</td>\n      <td>NaN</td>\n    </tr>\n    <tr>\n      <th>4</th>\n      <td>7C</td>\n      <td>Ustadzah Hilmi Gianti</td>\n      <td>7/29/2024</td>\n      <td>75</td>\n      <td>50</td>\n      <td>80</td>\n      <td>25</td>\n      <td>25</td>\n      <td>66</td>\n      <td>NaN</td>\n      <td>NaN</td>\n      <td>NaN</td>\n      <td>NaN</td>\n      <td>NaN</td>\n    </tr>\n  </tbody>\n</table>\n</div>"
          },
          "metadata": {}
        }
      ],
      "execution_count": 12
    },
    {
      "cell_type": "code",
      "source": "df.columns",
      "metadata": {
        "trusted": true
      },
      "outputs": [
        {
          "execution_count": 13,
          "output_type": "execute_result",
          "data": {
            "text/plain": "Index(['kelas', 'guru', 'tanggal', 'kebersihan', 'kerapian',\n       'kelengkapan_fasilitas', 'seragam_sepatu', 'keaktifan', 'mengingatkan',\n       'Unnamed: 9', 'Unnamed: 10', 'Unnamed: 11', 'Unnamed: 12',\n       'Unnamed: 13'],\n      dtype='object')"
          },
          "metadata": {}
        }
      ],
      "execution_count": 13
    },
    {
      "cell_type": "code",
      "source": "df.drop(columns=['Unnamed: 9', 'Unnamed: 10', 'Unnamed: 11', 'Unnamed: 12',\n       'Unnamed: 13'], inplace=True)",
      "metadata": {
        "trusted": true
      },
      "outputs": [],
      "execution_count": 14
    },
    {
      "cell_type": "code",
      "source": "agg = df.groupby('kelas').mean(['kebersihan', 'kerapian',\n       'kelengkapan_fasilitas', 'seragam_sepatu', 'keaktifan', 'mengingatkan'])",
      "metadata": {
        "trusted": true
      },
      "outputs": [],
      "execution_count": 24
    },
    {
      "cell_type": "code",
      "source": "agg['akhir'] = agg.mean(axis=1)",
      "metadata": {
        "trusted": true
      },
      "outputs": [],
      "execution_count": 28
    },
    {
      "cell_type": "code",
      "source": "agg.round(2)",
      "metadata": {
        "trusted": true
      },
      "outputs": [
        {
          "execution_count": 30,
          "output_type": "execute_result",
          "data": {
            "text/plain": "       kebersihan  kerapian  kelengkapan_fasilitas  seragam_sepatu  keaktifan  \\\nkelas                                                                           \n7A          65.91     63.64                  80.00           93.18      65.91   \n7B          54.55     54.55                  78.18           86.36      63.64   \n7C          66.18     63.24                  74.12           69.12      41.18   \n8A          64.29     58.93                  77.14           89.29      66.07   \n8B          53.57     53.57                  72.86           83.93      55.36   \n8C          61.36     63.64                  76.36           86.36      61.36   \n9A          72.22     69.44                  62.22           75.00      69.44   \n9B          62.50     62.50                  57.50           71.88      59.38   \n9C          62.50     64.29                  64.29          100.00      64.29   \n\n       mengingatkan  akhir  \nkelas                       \n7A            63.00  71.94  \n7B            57.00  65.71  \n7C            71.82  64.27  \n8A            61.29  69.50  \n8B            58.93  63.04  \n8C            63.00  68.68  \n9A            47.67  66.00  \n9B            49.50  60.54  \n9C            54.21  68.26  ",
            "text/html": "<div>\n<style scoped>\n    .dataframe tbody tr th:only-of-type {\n        vertical-align: middle;\n    }\n\n    .dataframe tbody tr th {\n        vertical-align: top;\n    }\n\n    .dataframe thead th {\n        text-align: right;\n    }\n</style>\n<table border=\"1\" class=\"dataframe\">\n  <thead>\n    <tr style=\"text-align: right;\">\n      <th></th>\n      <th>kebersihan</th>\n      <th>kerapian</th>\n      <th>kelengkapan_fasilitas</th>\n      <th>seragam_sepatu</th>\n      <th>keaktifan</th>\n      <th>mengingatkan</th>\n      <th>akhir</th>\n    </tr>\n    <tr>\n      <th>kelas</th>\n      <th></th>\n      <th></th>\n      <th></th>\n      <th></th>\n      <th></th>\n      <th></th>\n      <th></th>\n    </tr>\n  </thead>\n  <tbody>\n    <tr>\n      <th>7A</th>\n      <td>65.91</td>\n      <td>63.64</td>\n      <td>80.00</td>\n      <td>93.18</td>\n      <td>65.91</td>\n      <td>63.00</td>\n      <td>71.94</td>\n    </tr>\n    <tr>\n      <th>7B</th>\n      <td>54.55</td>\n      <td>54.55</td>\n      <td>78.18</td>\n      <td>86.36</td>\n      <td>63.64</td>\n      <td>57.00</td>\n      <td>65.71</td>\n    </tr>\n    <tr>\n      <th>7C</th>\n      <td>66.18</td>\n      <td>63.24</td>\n      <td>74.12</td>\n      <td>69.12</td>\n      <td>41.18</td>\n      <td>71.82</td>\n      <td>64.27</td>\n    </tr>\n    <tr>\n      <th>8A</th>\n      <td>64.29</td>\n      <td>58.93</td>\n      <td>77.14</td>\n      <td>89.29</td>\n      <td>66.07</td>\n      <td>61.29</td>\n      <td>69.50</td>\n    </tr>\n    <tr>\n      <th>8B</th>\n      <td>53.57</td>\n      <td>53.57</td>\n      <td>72.86</td>\n      <td>83.93</td>\n      <td>55.36</td>\n      <td>58.93</td>\n      <td>63.04</td>\n    </tr>\n    <tr>\n      <th>8C</th>\n      <td>61.36</td>\n      <td>63.64</td>\n      <td>76.36</td>\n      <td>86.36</td>\n      <td>61.36</td>\n      <td>63.00</td>\n      <td>68.68</td>\n    </tr>\n    <tr>\n      <th>9A</th>\n      <td>72.22</td>\n      <td>69.44</td>\n      <td>62.22</td>\n      <td>75.00</td>\n      <td>69.44</td>\n      <td>47.67</td>\n      <td>66.00</td>\n    </tr>\n    <tr>\n      <th>9B</th>\n      <td>62.50</td>\n      <td>62.50</td>\n      <td>57.50</td>\n      <td>71.88</td>\n      <td>59.38</td>\n      <td>49.50</td>\n      <td>60.54</td>\n    </tr>\n    <tr>\n      <th>9C</th>\n      <td>62.50</td>\n      <td>64.29</td>\n      <td>64.29</td>\n      <td>100.00</td>\n      <td>64.29</td>\n      <td>54.21</td>\n      <td>68.26</td>\n    </tr>\n  </tbody>\n</table>\n</div>"
          },
          "metadata": {}
        }
      ],
      "execution_count": 30
    },
    {
      "cell_type": "code",
      "source": "df",
      "metadata": {
        "trusted": true
      },
      "outputs": [
        {
          "execution_count": 31,
          "output_type": "execute_result",
          "data": {
            "text/plain": "    kelas                    guru    tanggal  kebersihan  kerapian  \\\n0      7C           Laila Dzikria  7/23/2024          75        50   \n1      7C  Ustadzah Fadhilah Nisa  7/25/2024          75        75   \n2      9C           Laila Dzikria  7/26/2024          75        75   \n3      9C  Ustadzah Fadhilah Nisa  7/25/2024          50        50   \n4      7C   Ustadzah Hilmi Gianti  7/29/2024          75        50   \n..    ...                     ...        ...         ...       ...   \n104    9A       Ust. Habib Rizieq   8/6/2024          75        50   \n105    9B       Ust. Habib Rizieq   8/6/2024          50        50   \n106    9C          Isma istiqomah   8/6/2024          50        50   \n107    7C          Isma istiqomah   8/8/2024          50        50   \n108    8C          Isma istiqomah   8/8/2024          50        50   \n\n     kelengkapan_fasilitas  seragam_sepatu  keaktifan  mengingatkan  \n0                       60              25         25            66  \n1                       60              25         25            33  \n2                       60             100         75            66  \n3                       60             100         25            33  \n4                       80              25         25            66  \n..                     ...             ...        ...           ...  \n104                      0             100         50            33  \n105                      0             100         50            33  \n106                     80             100         50            66  \n107                     80             100         50            66  \n108                     80             100         50            66  \n\n[109 rows x 9 columns]",
            "text/html": "<div>\n<style scoped>\n    .dataframe tbody tr th:only-of-type {\n        vertical-align: middle;\n    }\n\n    .dataframe tbody tr th {\n        vertical-align: top;\n    }\n\n    .dataframe thead th {\n        text-align: right;\n    }\n</style>\n<table border=\"1\" class=\"dataframe\">\n  <thead>\n    <tr style=\"text-align: right;\">\n      <th></th>\n      <th>kelas</th>\n      <th>guru</th>\n      <th>tanggal</th>\n      <th>kebersihan</th>\n      <th>kerapian</th>\n      <th>kelengkapan_fasilitas</th>\n      <th>seragam_sepatu</th>\n      <th>keaktifan</th>\n      <th>mengingatkan</th>\n    </tr>\n  </thead>\n  <tbody>\n    <tr>\n      <th>0</th>\n      <td>7C</td>\n      <td>Laila Dzikria</td>\n      <td>7/23/2024</td>\n      <td>75</td>\n      <td>50</td>\n      <td>60</td>\n      <td>25</td>\n      <td>25</td>\n      <td>66</td>\n    </tr>\n    <tr>\n      <th>1</th>\n      <td>7C</td>\n      <td>Ustadzah Fadhilah Nisa</td>\n      <td>7/25/2024</td>\n      <td>75</td>\n      <td>75</td>\n      <td>60</td>\n      <td>25</td>\n      <td>25</td>\n      <td>33</td>\n    </tr>\n    <tr>\n      <th>2</th>\n      <td>9C</td>\n      <td>Laila Dzikria</td>\n      <td>7/26/2024</td>\n      <td>75</td>\n      <td>75</td>\n      <td>60</td>\n      <td>100</td>\n      <td>75</td>\n      <td>66</td>\n    </tr>\n    <tr>\n      <th>3</th>\n      <td>9C</td>\n      <td>Ustadzah Fadhilah Nisa</td>\n      <td>7/25/2024</td>\n      <td>50</td>\n      <td>50</td>\n      <td>60</td>\n      <td>100</td>\n      <td>25</td>\n      <td>33</td>\n    </tr>\n    <tr>\n      <th>4</th>\n      <td>7C</td>\n      <td>Ustadzah Hilmi Gianti</td>\n      <td>7/29/2024</td>\n      <td>75</td>\n      <td>50</td>\n      <td>80</td>\n      <td>25</td>\n      <td>25</td>\n      <td>66</td>\n    </tr>\n    <tr>\n      <th>...</th>\n      <td>...</td>\n      <td>...</td>\n      <td>...</td>\n      <td>...</td>\n      <td>...</td>\n      <td>...</td>\n      <td>...</td>\n      <td>...</td>\n      <td>...</td>\n    </tr>\n    <tr>\n      <th>104</th>\n      <td>9A</td>\n      <td>Ust. Habib Rizieq</td>\n      <td>8/6/2024</td>\n      <td>75</td>\n      <td>50</td>\n      <td>0</td>\n      <td>100</td>\n      <td>50</td>\n      <td>33</td>\n    </tr>\n    <tr>\n      <th>105</th>\n      <td>9B</td>\n      <td>Ust. Habib Rizieq</td>\n      <td>8/6/2024</td>\n      <td>50</td>\n      <td>50</td>\n      <td>0</td>\n      <td>100</td>\n      <td>50</td>\n      <td>33</td>\n    </tr>\n    <tr>\n      <th>106</th>\n      <td>9C</td>\n      <td>Isma istiqomah</td>\n      <td>8/6/2024</td>\n      <td>50</td>\n      <td>50</td>\n      <td>80</td>\n      <td>100</td>\n      <td>50</td>\n      <td>66</td>\n    </tr>\n    <tr>\n      <th>107</th>\n      <td>7C</td>\n      <td>Isma istiqomah</td>\n      <td>8/8/2024</td>\n      <td>50</td>\n      <td>50</td>\n      <td>80</td>\n      <td>100</td>\n      <td>50</td>\n      <td>66</td>\n    </tr>\n    <tr>\n      <th>108</th>\n      <td>8C</td>\n      <td>Isma istiqomah</td>\n      <td>8/8/2024</td>\n      <td>50</td>\n      <td>50</td>\n      <td>80</td>\n      <td>100</td>\n      <td>50</td>\n      <td>66</td>\n    </tr>\n  </tbody>\n</table>\n<p>109 rows × 9 columns</p>\n</div>"
          },
          "metadata": {}
        }
      ],
      "execution_count": 31
    },
    {
      "cell_type": "code",
      "source": "df = pd.read_csv(\"./Book1.csv\")\ndf.info()",
      "metadata": {
        "trusted": true
      },
      "outputs": [
        {
          "name": "stdout",
          "text": "<class 'pandas.core.frame.DataFrame'>\nRangeIndex: 125 entries, 0 to 124\nData columns (total 14 columns):\n #   Column                 Non-Null Count  Dtype  \n---  ------                 --------------  -----  \n 0   kelas                  125 non-null    object \n 1   guru                   125 non-null    object \n 2   tanggal                125 non-null    object \n 3   kebersihan             125 non-null    object \n 4   kerapian               125 non-null    object \n 5   kelengkapan_fasilitas  125 non-null    int64  \n 6   seragam_sepatu         125 non-null    object \n 7   keaktifan              125 non-null    object \n 8   mengingatkan           125 non-null    object \n 9   Unnamed: 9             0 non-null      float64\n 10  Unnamed: 10            0 non-null      float64\n 11  Unnamed: 11            0 non-null      float64\n 12  Unnamed: 12            0 non-null      float64\n 13  Unnamed: 13            0 non-null      float64\ndtypes: float64(5), int64(1), object(8)\nmemory usage: 9.8+ KB\n",
          "output_type": "stream"
        }
      ],
      "execution_count": 45
    },
    {
      "cell_type": "code",
      "source": "df.info(15)",
      "metadata": {
        "trusted": true
      },
      "outputs": [
        {
          "name": "stdout",
          "text": "<class 'pandas.core.frame.DataFrame'>\nRangeIndex: 125 entries, 0 to 124\nData columns (total 9 columns):\n #   Column                 Non-Null Count  Dtype \n---  ------                 --------------  ----- \n 0   kelas                  125 non-null    object\n 1   guru                   125 non-null    object\n 2   tanggal                125 non-null    object\n 3   kebersihan             125 non-null    object\n 4   kerapian               125 non-null    object\n 5   kelengkapan_fasilitas  125 non-null    int64 \n 6   seragam_sepatu         125 non-null    object\n 7   keaktifan              125 non-null    object\n 8   mengingatkan           125 non-null    object\ndtypes: int64(1), object(8)\nmemory usage: 5.0+ KB\n",
          "output_type": "stream"
        }
      ],
      "execution_count": 89
    },
    {
      "cell_type": "code",
      "source": "df['mengingatkan'].replace({'Membiarkan':33, 'Terus/Selalu Membangunkan':99, 'Membangunkan':66}, inplace=True)",
      "metadata": {
        "trusted": true
      },
      "outputs": [],
      "execution_count": 76
    },
    {
      "cell_type": "code",
      "source": "df['keaktifan'].replace({'4. Sangat Aktif':100, '3. Aktif':75,\n       '2. Cukup Aktif':50, '1. Kurang Aktif':25}, inplace=True)",
      "metadata": {
        "trusted": true
      },
      "outputs": [],
      "execution_count": null
    },
    {
      "cell_type": "code",
      "source": "df.dropna(axis=1, inplace=True)",
      "metadata": {
        "trusted": true
      },
      "outputs": [],
      "execution_count": 82
    },
    {
      "cell_type": "code",
      "source": "# df['kelengkapan_fasilitas'].replace({5: 100, 2: 40, 1: 20, 3: 60, 4: 80}, inplace=True)",
      "metadata": {
        "trusted": true
      },
      "outputs": [],
      "execution_count": 84
    },
    {
      "cell_type": "code",
      "source": "df.columns",
      "metadata": {
        "trusted": true
      },
      "outputs": [
        {
          "execution_count": 85,
          "output_type": "execute_result",
          "data": {
            "text/plain": "Index(['kelas', 'guru', 'tanggal', 'kebersihan', 'kerapian',\n       'kelengkapan_fasilitas', 'seragam_sepatu', 'keaktifan', 'mengingatkan'],\n      dtype='object')"
          },
          "metadata": {}
        }
      ],
      "execution_count": 85
    },
    {
      "cell_type": "code",
      "source": "df[['kebersihan', 'kerapian',\n       'kelengkapan_fasilitas', 'seragam_sepatu', 'keaktifan', 'mengingatkan']] = df[['kebersihan', 'kerapian',\n       'kelengkapan_fasilitas', 'seragam_sepatu', 'keaktifan', 'mengingatkan']].astype(int)",
      "metadata": {
        "trusted": true
      },
      "outputs": [],
      "execution_count": 101
    },
    {
      "cell_type": "code",
      "source": "df.groupby('kelas').mean(['kebersihan', 'kerapian',\n       'kelengkapan_fasilitas', 'seragam_sepatu', 'keaktifan', 'mengingatkan'])",
      "metadata": {
        "trusted": true
      },
      "outputs": [
        {
          "execution_count": 102,
          "output_type": "execute_result",
          "data": {
            "text/plain": "       kebersihan   kerapian  kelengkapan_fasilitas  seragam_sepatu  \\\nkelas                                                                 \n7A      66.666667  64.583333              80.000000       93.750000   \n7B      56.250000  56.250000              78.333333       87.500000   \n7C      62.500000  61.250000              75.000000       73.750000   \n8A      64.705882  60.294118              74.117647       86.764706   \n8B      57.812500  56.250000              75.000000       85.937500   \n8C      61.538462  65.384615              75.384615       88.461538   \n9A      72.500000  67.500000              60.000000       77.500000   \n9B      61.111111  61.111111              55.555556       75.000000   \n9C      60.937500  62.500000              61.250000      100.000000   \n\n       keaktifan  mengingatkan  \nkelas                           \n7A     66.666667     63.250000  \n7B     64.583333     57.750000  \n7C     41.250000     67.650000  \n8A     64.705882     64.058824  \n8B     57.812500     59.812500  \n8C     61.538462     63.461538  \n9A     67.500000     46.200000  \n9B     58.333333     47.666667  \n9C     64.062500     51.562500  ",
            "text/html": "<div>\n<style scoped>\n    .dataframe tbody tr th:only-of-type {\n        vertical-align: middle;\n    }\n\n    .dataframe tbody tr th {\n        vertical-align: top;\n    }\n\n    .dataframe thead th {\n        text-align: right;\n    }\n</style>\n<table border=\"1\" class=\"dataframe\">\n  <thead>\n    <tr style=\"text-align: right;\">\n      <th></th>\n      <th>kebersihan</th>\n      <th>kerapian</th>\n      <th>kelengkapan_fasilitas</th>\n      <th>seragam_sepatu</th>\n      <th>keaktifan</th>\n      <th>mengingatkan</th>\n    </tr>\n    <tr>\n      <th>kelas</th>\n      <th></th>\n      <th></th>\n      <th></th>\n      <th></th>\n      <th></th>\n      <th></th>\n    </tr>\n  </thead>\n  <tbody>\n    <tr>\n      <th>7A</th>\n      <td>66.666667</td>\n      <td>64.583333</td>\n      <td>80.000000</td>\n      <td>93.750000</td>\n      <td>66.666667</td>\n      <td>63.250000</td>\n    </tr>\n    <tr>\n      <th>7B</th>\n      <td>56.250000</td>\n      <td>56.250000</td>\n      <td>78.333333</td>\n      <td>87.500000</td>\n      <td>64.583333</td>\n      <td>57.750000</td>\n    </tr>\n    <tr>\n      <th>7C</th>\n      <td>62.500000</td>\n      <td>61.250000</td>\n      <td>75.000000</td>\n      <td>73.750000</td>\n      <td>41.250000</td>\n      <td>67.650000</td>\n    </tr>\n    <tr>\n      <th>8A</th>\n      <td>64.705882</td>\n      <td>60.294118</td>\n      <td>74.117647</td>\n      <td>86.764706</td>\n      <td>64.705882</td>\n      <td>64.058824</td>\n    </tr>\n    <tr>\n      <th>8B</th>\n      <td>57.812500</td>\n      <td>56.250000</td>\n      <td>75.000000</td>\n      <td>85.937500</td>\n      <td>57.812500</td>\n      <td>59.812500</td>\n    </tr>\n    <tr>\n      <th>8C</th>\n      <td>61.538462</td>\n      <td>65.384615</td>\n      <td>75.384615</td>\n      <td>88.461538</td>\n      <td>61.538462</td>\n      <td>63.461538</td>\n    </tr>\n    <tr>\n      <th>9A</th>\n      <td>72.500000</td>\n      <td>67.500000</td>\n      <td>60.000000</td>\n      <td>77.500000</td>\n      <td>67.500000</td>\n      <td>46.200000</td>\n    </tr>\n    <tr>\n      <th>9B</th>\n      <td>61.111111</td>\n      <td>61.111111</td>\n      <td>55.555556</td>\n      <td>75.000000</td>\n      <td>58.333333</td>\n      <td>47.666667</td>\n    </tr>\n    <tr>\n      <th>9C</th>\n      <td>60.937500</td>\n      <td>62.500000</td>\n      <td>61.250000</td>\n      <td>100.000000</td>\n      <td>64.062500</td>\n      <td>51.562500</td>\n    </tr>\n  </tbody>\n</table>\n</div>"
          },
          "metadata": {}
        }
      ],
      "execution_count": 102
    },
    {
      "cell_type": "code",
      "source": "agg = df.groupby('kelas').mean(['kebersihan', 'kerapian',\n       'kelengkapan_fasilitas', 'seragam_sepatu', 'keaktifan', 'mengingatkan'])\nagg['rata2_akhir'] = agg.mean(axis=1)",
      "metadata": {
        "trusted": true
      },
      "outputs": [],
      "execution_count": 106
    },
    {
      "cell_type": "code",
      "source": "agg.round(2)",
      "metadata": {
        "trusted": true
      },
      "outputs": [
        {
          "execution_count": 107,
          "output_type": "execute_result",
          "data": {
            "text/plain": "       kebersihan  kerapian  kelengkapan_fasilitas  seragam_sepatu  keaktifan  \\\nkelas                                                                           \n7A          66.67     64.58                  80.00           93.75      66.67   \n7B          56.25     56.25                  78.33           87.50      64.58   \n7C          62.50     61.25                  75.00           73.75      41.25   \n8A          64.71     60.29                  74.12           86.76      64.71   \n8B          57.81     56.25                  75.00           85.94      57.81   \n8C          61.54     65.38                  75.38           88.46      61.54   \n9A          72.50     67.50                  60.00           77.50      67.50   \n9B          61.11     61.11                  55.56           75.00      58.33   \n9C          60.94     62.50                  61.25          100.00      64.06   \n\n       mengingatkan  rata2_akhir  \nkelas                             \n7A            63.25        72.49  \n7B            57.75        66.78  \n7C            67.65        63.57  \n8A            64.06        69.11  \n8B            59.81        65.44  \n8C            63.46        69.29  \n9A            46.20        65.20  \n9B            47.67        59.80  \n9C            51.56        66.72  ",
            "text/html": "<div>\n<style scoped>\n    .dataframe tbody tr th:only-of-type {\n        vertical-align: middle;\n    }\n\n    .dataframe tbody tr th {\n        vertical-align: top;\n    }\n\n    .dataframe thead th {\n        text-align: right;\n    }\n</style>\n<table border=\"1\" class=\"dataframe\">\n  <thead>\n    <tr style=\"text-align: right;\">\n      <th></th>\n      <th>kebersihan</th>\n      <th>kerapian</th>\n      <th>kelengkapan_fasilitas</th>\n      <th>seragam_sepatu</th>\n      <th>keaktifan</th>\n      <th>mengingatkan</th>\n      <th>rata2_akhir</th>\n    </tr>\n    <tr>\n      <th>kelas</th>\n      <th></th>\n      <th></th>\n      <th></th>\n      <th></th>\n      <th></th>\n      <th></th>\n      <th></th>\n    </tr>\n  </thead>\n  <tbody>\n    <tr>\n      <th>7A</th>\n      <td>66.67</td>\n      <td>64.58</td>\n      <td>80.00</td>\n      <td>93.75</td>\n      <td>66.67</td>\n      <td>63.25</td>\n      <td>72.49</td>\n    </tr>\n    <tr>\n      <th>7B</th>\n      <td>56.25</td>\n      <td>56.25</td>\n      <td>78.33</td>\n      <td>87.50</td>\n      <td>64.58</td>\n      <td>57.75</td>\n      <td>66.78</td>\n    </tr>\n    <tr>\n      <th>7C</th>\n      <td>62.50</td>\n      <td>61.25</td>\n      <td>75.00</td>\n      <td>73.75</td>\n      <td>41.25</td>\n      <td>67.65</td>\n      <td>63.57</td>\n    </tr>\n    <tr>\n      <th>8A</th>\n      <td>64.71</td>\n      <td>60.29</td>\n      <td>74.12</td>\n      <td>86.76</td>\n      <td>64.71</td>\n      <td>64.06</td>\n      <td>69.11</td>\n    </tr>\n    <tr>\n      <th>8B</th>\n      <td>57.81</td>\n      <td>56.25</td>\n      <td>75.00</td>\n      <td>85.94</td>\n      <td>57.81</td>\n      <td>59.81</td>\n      <td>65.44</td>\n    </tr>\n    <tr>\n      <th>8C</th>\n      <td>61.54</td>\n      <td>65.38</td>\n      <td>75.38</td>\n      <td>88.46</td>\n      <td>61.54</td>\n      <td>63.46</td>\n      <td>69.29</td>\n    </tr>\n    <tr>\n      <th>9A</th>\n      <td>72.50</td>\n      <td>67.50</td>\n      <td>60.00</td>\n      <td>77.50</td>\n      <td>67.50</td>\n      <td>46.20</td>\n      <td>65.20</td>\n    </tr>\n    <tr>\n      <th>9B</th>\n      <td>61.11</td>\n      <td>61.11</td>\n      <td>55.56</td>\n      <td>75.00</td>\n      <td>58.33</td>\n      <td>47.67</td>\n      <td>59.80</td>\n    </tr>\n    <tr>\n      <th>9C</th>\n      <td>60.94</td>\n      <td>62.50</td>\n      <td>61.25</td>\n      <td>100.00</td>\n      <td>64.06</td>\n      <td>51.56</td>\n      <td>66.72</td>\n    </tr>\n  </tbody>\n</table>\n</div>"
          },
          "metadata": {}
        }
      ],
      "execution_count": 107
    }
  ]
}